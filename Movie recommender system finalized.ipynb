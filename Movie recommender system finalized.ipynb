{
 "cells": [
  {
   "cell_type": "markdown",
   "id": "caa8bbd6-7261-4d81-b806-2e2b3da6daa9",
   "metadata": {},
   "source": [
    "# MOVIE RECOMMENDATION USING COSINE SIMILARITY!"
   ]
  },
  {
   "cell_type": "code",
   "execution_count": 1,
   "id": "2b6fe067-bc66-4c2f-a695-0aaf287b046f",
   "metadata": {},
   "outputs": [],
   "source": [
    "import pandas as pd\n",
    "import numpy as np\n",
    "import ast"
   ]
  },
  {
   "cell_type": "code",
   "execution_count": 2,
   "id": "29f49d63-f366-4f65-8cc2-6c2bc5d24065",
   "metadata": {},
   "outputs": [],
   "source": [
    "credits_df= pd.read_csv('C:/users/moaaz/notebooks/MOVIE RECOMMENDATION MODEL/movie data/credits.csv',low_memory=False)\n",
    "keywords_df = pd.read_csv('C:/users/moaaz/notebooks/MOVIE RECOMMENDATION MODEL/movie data/keywords.csv',low_memory=False)\n",
    "metadata = pd.read_csv('C:/users/moaaz/notebooks/MOVIE RECOMMENDATION MODEL/movie data/movies_metadata.csv',low_memory=False)\n"
   ]
  },
  {
   "cell_type": "code",
   "execution_count": 3,
   "id": "9cc7d7d8-2d53-4ac1-88ba-d79ce209c571",
   "metadata": {},
   "outputs": [],
   "source": [
    "metadata = metadata[['genres', 'id', 'overview', 'title']]"
   ]
  },
  {
   "cell_type": "code",
   "execution_count": 4,
   "id": "b172782a-9518-4be5-9cf7-c132dd2a0870",
   "metadata": {},
   "outputs": [
    {
     "name": "stdout",
     "output_type": "stream",
     "text": [
      "<class 'pandas.core.frame.DataFrame'>\n",
      "Int64Index: 44506 entries, 0 to 45465\n",
      "Data columns (total 4 columns):\n",
      " #   Column    Non-Null Count  Dtype \n",
      "---  ------    --------------  ----- \n",
      " 0   genres    44506 non-null  object\n",
      " 1   id        44506 non-null  object\n",
      " 2   overview  44506 non-null  object\n",
      " 3   title     44506 non-null  object\n",
      "dtypes: object(4)\n",
      "memory usage: 1.7+ MB\n"
     ]
    }
   ],
   "source": [
    "metadata.dropna(inplace=True)\n",
    "metadata.info()"
   ]
  },
  {
   "cell_type": "code",
   "execution_count": 5,
   "id": "3e45aa11-0721-45f9-836f-79ad3b89d4f4",
   "metadata": {},
   "outputs": [],
   "source": [
    "result = pd.concat([credits_df, keywords_df], axis=1, join='inner')\n"
   ]
  },
  {
   "cell_type": "code",
   "execution_count": 6,
   "id": "355e7c16-b142-4159-94ec-e2dd34c85fab",
   "metadata": {},
   "outputs": [],
   "source": [
    "result.dropna(inplace=True)"
   ]
  },
  {
   "cell_type": "code",
   "execution_count": 7,
   "id": "30c58ad8-e736-4cf8-9fec-7fec0aea13e2",
   "metadata": {},
   "outputs": [],
   "source": [
    "metadata_res = pd.concat([result, metadata], axis=1, join='inner')"
   ]
  },
  {
   "cell_type": "code",
   "execution_count": 8,
   "id": "9c7e800e-c903-44d0-a50c-559eba1537c6",
   "metadata": {},
   "outputs": [
    {
     "data": {
      "text/plain": [
       "(44506,)"
      ]
     },
     "execution_count": 8,
     "metadata": {},
     "output_type": "execute_result"
    }
   ],
   "source": [
    "id = metadata_res['id']\n",
    "id = id.dropna()\n",
    "id = id.iloc[:, 1]\n",
    "id.shape"
   ]
  },
  {
   "cell_type": "code",
   "execution_count": 9,
   "id": "bdb3788b-5c2f-432e-aa15-f64cc2194158",
   "metadata": {},
   "outputs": [],
   "source": [
    "metadata_res=metadata_res.drop(columns='id', axis=1)"
   ]
  },
  {
   "cell_type": "code",
   "execution_count": 10,
   "id": "ac2a6464-9e62-4a1e-bc28-a93b62507522",
   "metadata": {},
   "outputs": [],
   "source": [
    "metadata_res1 = metadata_res.join(id)"
   ]
  },
  {
   "cell_type": "code",
   "execution_count": 11,
   "id": "78091629-2a9d-4097-93e5-ec07f7c55d12",
   "metadata": {},
   "outputs": [
    {
     "data": {
      "text/html": [
       "<div>\n",
       "<style scoped>\n",
       "    .dataframe tbody tr th:only-of-type {\n",
       "        vertical-align: middle;\n",
       "    }\n",
       "\n",
       "    .dataframe tbody tr th {\n",
       "        vertical-align: top;\n",
       "    }\n",
       "\n",
       "    .dataframe thead th {\n",
       "        text-align: right;\n",
       "    }\n",
       "</style>\n",
       "<table border=\"1\" class=\"dataframe\">\n",
       "  <thead>\n",
       "    <tr style=\"text-align: right;\">\n",
       "      <th></th>\n",
       "      <th>cast</th>\n",
       "      <th>crew</th>\n",
       "      <th>keywords</th>\n",
       "      <th>genres</th>\n",
       "      <th>overview</th>\n",
       "      <th>title</th>\n",
       "      <th>id</th>\n",
       "    </tr>\n",
       "  </thead>\n",
       "  <tbody>\n",
       "    <tr>\n",
       "      <th>0</th>\n",
       "      <td>[{'cast_id': 14, 'character': 'Woody (voice)',...</td>\n",
       "      <td>[{'credit_id': '52fe4284c3a36847f8024f49', 'de...</td>\n",
       "      <td>[{'id': 931, 'name': 'jealousy'}, {'id': 4290,...</td>\n",
       "      <td>[{'id': 16, 'name': 'Animation'}, {'id': 35, '...</td>\n",
       "      <td>Led by Woody, Andy's toys live happily in his ...</td>\n",
       "      <td>Toy Story</td>\n",
       "      <td>862</td>\n",
       "    </tr>\n",
       "    <tr>\n",
       "      <th>1</th>\n",
       "      <td>[{'cast_id': 1, 'character': 'Alan Parrish', '...</td>\n",
       "      <td>[{'credit_id': '52fe44bfc3a36847f80a7cd1', 'de...</td>\n",
       "      <td>[{'id': 10090, 'name': 'board game'}, {'id': 1...</td>\n",
       "      <td>[{'id': 12, 'name': 'Adventure'}, {'id': 14, '...</td>\n",
       "      <td>When siblings Judy and Peter discover an encha...</td>\n",
       "      <td>Jumanji</td>\n",
       "      <td>8844</td>\n",
       "    </tr>\n",
       "    <tr>\n",
       "      <th>2</th>\n",
       "      <td>[{'cast_id': 2, 'character': 'Max Goldman', 'c...</td>\n",
       "      <td>[{'credit_id': '52fe466a9251416c75077a89', 'de...</td>\n",
       "      <td>[{'id': 1495, 'name': 'fishing'}, {'id': 12392...</td>\n",
       "      <td>[{'id': 10749, 'name': 'Romance'}, {'id': 35, ...</td>\n",
       "      <td>A family wedding reignites the ancient feud be...</td>\n",
       "      <td>Grumpier Old Men</td>\n",
       "      <td>15602</td>\n",
       "    </tr>\n",
       "    <tr>\n",
       "      <th>3</th>\n",
       "      <td>[{'cast_id': 1, 'character': \"Savannah 'Vannah...</td>\n",
       "      <td>[{'credit_id': '52fe44779251416c91011acb', 'de...</td>\n",
       "      <td>[{'id': 818, 'name': 'based on novel'}, {'id':...</td>\n",
       "      <td>[{'id': 35, 'name': 'Comedy'}, {'id': 18, 'nam...</td>\n",
       "      <td>Cheated on, mistreated and stepped on, the wom...</td>\n",
       "      <td>Waiting to Exhale</td>\n",
       "      <td>31357</td>\n",
       "    </tr>\n",
       "    <tr>\n",
       "      <th>4</th>\n",
       "      <td>[{'cast_id': 1, 'character': 'George Banks', '...</td>\n",
       "      <td>[{'credit_id': '52fe44959251416c75039ed7', 'de...</td>\n",
       "      <td>[{'id': 1009, 'name': 'baby'}, {'id': 1599, 'n...</td>\n",
       "      <td>[{'id': 35, 'name': 'Comedy'}]</td>\n",
       "      <td>Just when George Banks has recovered from his ...</td>\n",
       "      <td>Father of the Bride Part II</td>\n",
       "      <td>11862</td>\n",
       "    </tr>\n",
       "    <tr>\n",
       "      <th>...</th>\n",
       "      <td>...</td>\n",
       "      <td>...</td>\n",
       "      <td>...</td>\n",
       "      <td>...</td>\n",
       "      <td>...</td>\n",
       "      <td>...</td>\n",
       "      <td>...</td>\n",
       "    </tr>\n",
       "    <tr>\n",
       "      <th>45461</th>\n",
       "      <td>[{'cast_id': 2, 'character': '', 'credit_id': ...</td>\n",
       "      <td>[{'credit_id': '52fe4a71c3a36847f81ce35b', 'de...</td>\n",
       "      <td>[]</td>\n",
       "      <td>[{'id': 18, 'name': 'Drama'}, {'id': 10751, 'n...</td>\n",
       "      <td>Rising and falling between a man and woman.</td>\n",
       "      <td>Subdue</td>\n",
       "      <td>67451</td>\n",
       "    </tr>\n",
       "    <tr>\n",
       "      <th>45462</th>\n",
       "      <td>[]</td>\n",
       "      <td>[{'credit_id': '539ef1090e0a263dd00000d7', 'de...</td>\n",
       "      <td>[]</td>\n",
       "      <td>[{'id': 18, 'name': 'Drama'}]</td>\n",
       "      <td>An artist struggles to finish his work while a...</td>\n",
       "      <td>Century of Birthing</td>\n",
       "      <td>92132</td>\n",
       "    </tr>\n",
       "    <tr>\n",
       "      <th>45463</th>\n",
       "      <td>[{'cast_id': 1, 'character': 'Devki Sabarwal',...</td>\n",
       "      <td>[{'credit_id': '58ee55bbc3a3683df500bd0f', 'de...</td>\n",
       "      <td>[{'id': 818, 'name': 'based on novel'}]</td>\n",
       "      <td>[{'id': 28, 'name': 'Action'}, {'id': 18, 'nam...</td>\n",
       "      <td>When one of her hits goes wrong, a professiona...</td>\n",
       "      <td>Betrayal</td>\n",
       "      <td>75294</td>\n",
       "    </tr>\n",
       "    <tr>\n",
       "      <th>45464</th>\n",
       "      <td>[{'cast_id': 0, 'character': 'Lauren', 'credit...</td>\n",
       "      <td>[{'credit_id': '587626f4c3a3682b33008299', 'de...</td>\n",
       "      <td>[{'id': 187056, 'name': 'woman director'}]</td>\n",
       "      <td>[]</td>\n",
       "      <td>In a small town live two brothers, one a minis...</td>\n",
       "      <td>Satan Triumphant</td>\n",
       "      <td>63293</td>\n",
       "    </tr>\n",
       "    <tr>\n",
       "      <th>45465</th>\n",
       "      <td>[{'cast_id': 5, 'character': '', 'credit_id': ...</td>\n",
       "      <td>[{'credit_id': '5330178a9251413a720055e3', 'de...</td>\n",
       "      <td>[]</td>\n",
       "      <td>[]</td>\n",
       "      <td>50 years after decriminalisation of homosexual...</td>\n",
       "      <td>Queerama</td>\n",
       "      <td>73267</td>\n",
       "    </tr>\n",
       "  </tbody>\n",
       "</table>\n",
       "<p>44506 rows × 7 columns</p>\n",
       "</div>"
      ],
      "text/plain": [
       "                                                    cast  \\\n",
       "0      [{'cast_id': 14, 'character': 'Woody (voice)',...   \n",
       "1      [{'cast_id': 1, 'character': 'Alan Parrish', '...   \n",
       "2      [{'cast_id': 2, 'character': 'Max Goldman', 'c...   \n",
       "3      [{'cast_id': 1, 'character': \"Savannah 'Vannah...   \n",
       "4      [{'cast_id': 1, 'character': 'George Banks', '...   \n",
       "...                                                  ...   \n",
       "45461  [{'cast_id': 2, 'character': '', 'credit_id': ...   \n",
       "45462                                                 []   \n",
       "45463  [{'cast_id': 1, 'character': 'Devki Sabarwal',...   \n",
       "45464  [{'cast_id': 0, 'character': 'Lauren', 'credit...   \n",
       "45465  [{'cast_id': 5, 'character': '', 'credit_id': ...   \n",
       "\n",
       "                                                    crew  \\\n",
       "0      [{'credit_id': '52fe4284c3a36847f8024f49', 'de...   \n",
       "1      [{'credit_id': '52fe44bfc3a36847f80a7cd1', 'de...   \n",
       "2      [{'credit_id': '52fe466a9251416c75077a89', 'de...   \n",
       "3      [{'credit_id': '52fe44779251416c91011acb', 'de...   \n",
       "4      [{'credit_id': '52fe44959251416c75039ed7', 'de...   \n",
       "...                                                  ...   \n",
       "45461  [{'credit_id': '52fe4a71c3a36847f81ce35b', 'de...   \n",
       "45462  [{'credit_id': '539ef1090e0a263dd00000d7', 'de...   \n",
       "45463  [{'credit_id': '58ee55bbc3a3683df500bd0f', 'de...   \n",
       "45464  [{'credit_id': '587626f4c3a3682b33008299', 'de...   \n",
       "45465  [{'credit_id': '5330178a9251413a720055e3', 'de...   \n",
       "\n",
       "                                                keywords  \\\n",
       "0      [{'id': 931, 'name': 'jealousy'}, {'id': 4290,...   \n",
       "1      [{'id': 10090, 'name': 'board game'}, {'id': 1...   \n",
       "2      [{'id': 1495, 'name': 'fishing'}, {'id': 12392...   \n",
       "3      [{'id': 818, 'name': 'based on novel'}, {'id':...   \n",
       "4      [{'id': 1009, 'name': 'baby'}, {'id': 1599, 'n...   \n",
       "...                                                  ...   \n",
       "45461                                                 []   \n",
       "45462                                                 []   \n",
       "45463            [{'id': 818, 'name': 'based on novel'}]   \n",
       "45464         [{'id': 187056, 'name': 'woman director'}]   \n",
       "45465                                                 []   \n",
       "\n",
       "                                                  genres  \\\n",
       "0      [{'id': 16, 'name': 'Animation'}, {'id': 35, '...   \n",
       "1      [{'id': 12, 'name': 'Adventure'}, {'id': 14, '...   \n",
       "2      [{'id': 10749, 'name': 'Romance'}, {'id': 35, ...   \n",
       "3      [{'id': 35, 'name': 'Comedy'}, {'id': 18, 'nam...   \n",
       "4                         [{'id': 35, 'name': 'Comedy'}]   \n",
       "...                                                  ...   \n",
       "45461  [{'id': 18, 'name': 'Drama'}, {'id': 10751, 'n...   \n",
       "45462                      [{'id': 18, 'name': 'Drama'}]   \n",
       "45463  [{'id': 28, 'name': 'Action'}, {'id': 18, 'nam...   \n",
       "45464                                                 []   \n",
       "45465                                                 []   \n",
       "\n",
       "                                                overview  \\\n",
       "0      Led by Woody, Andy's toys live happily in his ...   \n",
       "1      When siblings Judy and Peter discover an encha...   \n",
       "2      A family wedding reignites the ancient feud be...   \n",
       "3      Cheated on, mistreated and stepped on, the wom...   \n",
       "4      Just when George Banks has recovered from his ...   \n",
       "...                                                  ...   \n",
       "45461        Rising and falling between a man and woman.   \n",
       "45462  An artist struggles to finish his work while a...   \n",
       "45463  When one of her hits goes wrong, a professiona...   \n",
       "45464  In a small town live two brothers, one a minis...   \n",
       "45465  50 years after decriminalisation of homosexual...   \n",
       "\n",
       "                             title     id  \n",
       "0                        Toy Story    862  \n",
       "1                          Jumanji   8844  \n",
       "2                 Grumpier Old Men  15602  \n",
       "3                Waiting to Exhale  31357  \n",
       "4      Father of the Bride Part II  11862  \n",
       "...                            ...    ...  \n",
       "45461                       Subdue  67451  \n",
       "45462          Century of Birthing  92132  \n",
       "45463                     Betrayal  75294  \n",
       "45464             Satan Triumphant  63293  \n",
       "45465                     Queerama  73267  \n",
       "\n",
       "[44506 rows x 7 columns]"
      ]
     },
     "execution_count": 11,
     "metadata": {},
     "output_type": "execute_result"
    }
   ],
   "source": [
    "metadata_res1"
   ]
  },
  {
   "cell_type": "code",
   "execution_count": 12,
   "id": "5608ed0a-dc5d-4197-a62e-c95e10ae4727",
   "metadata": {},
   "outputs": [
    {
     "name": "stdout",
     "output_type": "stream",
     "text": [
      "<class 'pandas.core.frame.DataFrame'>\n",
      "Int64Index: 44506 entries, 0 to 45465\n",
      "Data columns (total 7 columns):\n",
      " #   Column    Non-Null Count  Dtype \n",
      "---  ------    --------------  ----- \n",
      " 0   cast      44506 non-null  object\n",
      " 1   crew      44506 non-null  object\n",
      " 2   keywords  44506 non-null  object\n",
      " 3   genres    44506 non-null  object\n",
      " 4   overview  44506 non-null  object\n",
      " 5   title     44506 non-null  object\n",
      " 6   id        44506 non-null  int64 \n",
      "dtypes: int64(1), object(6)\n",
      "memory usage: 3.7+ MB\n"
     ]
    },
    {
     "data": {
      "text/plain": [
       "(44506, 7)"
      ]
     },
     "execution_count": 12,
     "metadata": {},
     "output_type": "execute_result"
    }
   ],
   "source": [
    "metadata_res1.info()\n",
    "metadata_res1.shape"
   ]
  },
  {
   "cell_type": "code",
   "execution_count": 13,
   "id": "e2285346-2cc1-4f8e-9d09-a909d2c21604",
   "metadata": {},
   "outputs": [],
   "source": [
    "metadata_res1.overview=metadata_res1.overview.str.lower()"
   ]
  },
  {
   "cell_type": "code",
   "execution_count": null,
   "id": "b5660cb3-c5f1-43fb-b371-2a7322684ea7",
   "metadata": {},
   "outputs": [],
   "source": []
  },
  {
   "cell_type": "code",
   "execution_count": 14,
   "id": "acc6cd18-03c4-4cc6-bc23-eb96b182bd23",
   "metadata": {},
   "outputs": [],
   "source": [
    "def transform(genre_lst):\n",
    "    lst = [(i['name']).lower() for i in ast.literal_eval(genre_lst)]\n",
    "    string = ' '.join(str(i) for i in lst)\n",
    "    return string\n",
    "\n",
    "metadata_res1['genres'] = metadata_res1['genres'].apply(transform)\n",
    "\n",
    "\n",
    "\n"
   ]
  },
  {
   "cell_type": "code",
   "execution_count": null,
   "id": "e79ee47f-46dc-4b23-86e9-21ae12a5812a",
   "metadata": {},
   "outputs": [],
   "source": []
  },
  {
   "cell_type": "code",
   "execution_count": 15,
   "id": "c97213a7-42c3-492c-8ae7-6b7c883d8837",
   "metadata": {},
   "outputs": [],
   "source": [
    "metadata_res1['keywords'] = metadata_res1['keywords'].apply(transform)\n"
   ]
  },
  {
   "cell_type": "code",
   "execution_count": 16,
   "id": "dd6095e9-c088-45c7-89e2-bd530b53e345",
   "metadata": {},
   "outputs": [],
   "source": [
    "def transform2(genre_lst):\n",
    "    lst=[]\n",
    "    counter=0\n",
    "    \n",
    "    for i in ast.literal_eval(genre_lst):\n",
    "        if counter!=3:\n",
    "            lst.append((i['name']).lower())\n",
    "            counter+=1\n",
    "        else:\n",
    "            break\n",
    "            \n",
    "    string = ' '.join(str(i) for i in lst)\n",
    "    return string\n",
    "\n",
    "metadata_res1['cast'] = metadata_res['cast'].apply(transform2)"
   ]
  },
  {
   "cell_type": "code",
   "execution_count": 17,
   "id": "1730e0d1-ce50-4ffe-bca3-0af88c3d2862",
   "metadata": {},
   "outputs": [],
   "source": [
    "def getDirector(obj):\n",
    "    lst=[]\n",
    "    for i in ast.literal_eval(obj):\n",
    "        if i['job'] == 'Director':\n",
    "            lst.append((i['name']).lower())\n",
    "            break\n",
    "\n",
    "    string = ' '.join(str(i) for i in lst)\n",
    "    return string\n",
    "\n",
    "\n",
    "\n",
    "metadata_res1['crew']  = metadata_res1['crew'].apply(getDirector)\n",
    "    "
   ]
  },
  {
   "cell_type": "code",
   "execution_count": 18,
   "id": "5a15eb95-1b9a-47f9-9ef7-55cc9e12f078",
   "metadata": {},
   "outputs": [],
   "source": [
    "metadata_res1['title'] = metadata_res1['title'].str.lower()\n",
    "\n",
    "metadata_res1=metadata_res1.reset_index(drop=True)\n",
    "\n",
    "metadata_res1=metadata_res1.drop_duplicates(subset=['title'],keep='first')\n"
   ]
  },
  {
   "cell_type": "code",
   "execution_count": 19,
   "id": "103fa316-64be-4522-a65a-3cfad67ae6e0",
   "metadata": {},
   "outputs": [
    {
     "data": {
      "text/plain": [
       "(41322, 7)"
      ]
     },
     "execution_count": 19,
     "metadata": {},
     "output_type": "execute_result"
    }
   ],
   "source": [
    "metadata_res1.shape"
   ]
  },
  {
   "cell_type": "code",
   "execution_count": 20,
   "id": "26f504d8-d4dc-45fc-b606-7d6de8a1b11b",
   "metadata": {},
   "outputs": [],
   "source": [
    "\n",
    "from nltk.corpus import stopwords\n",
    "from nltk import word_tokenize"
   ]
  },
  {
   "cell_type": "code",
   "execution_count": 21,
   "id": "262e4f57-847e-48eb-a862-a9d57ca0db68",
   "metadata": {},
   "outputs": [],
   "source": [
    "# def removeSpaces(string):\n",
    "#     lst = []\n",
    "#     for i in string:\n",
    "#         lst.append(i.replace(\" \",\"\"))\n",
    "#     string = ' '.join(str(i) for i in lst)\n",
    "#     return string\n",
    "\n",
    "# metadata_res1['cast'] = metadata_res1['cast'].apply(removeSpaces)\n",
    "# metadata_res1['crew'] = metadata_res1['crew'].apply(removeSpaces)\n",
    "# metadata_res1['genres'] = metadata_res1['genres'].apply(removeSpaces)\n",
    "# metadata_res1['keywords'] = metadata_res1['keywords'].apply(removeSpaces)\n",
    "# metadata_res1['overview'] = metadata_res1['overview'].apply(removeSpaces)"
   ]
  },
  {
   "cell_type": "code",
   "execution_count": 22,
   "id": "58607482-bcca-4b11-8a63-790a308b04a2",
   "metadata": {},
   "outputs": [],
   "source": [
    "metadata_res1['tags'] =metadata_res1['genres'] + ' ' + metadata_res1['keywords']"
   ]
  },
  {
   "cell_type": "code",
   "execution_count": null,
   "id": "94a9115e-ade7-4580-96f3-8e386a508c8d",
   "metadata": {},
   "outputs": [],
   "source": []
  },
  {
   "cell_type": "code",
   "execution_count": 23,
   "id": "7e637e4d-427b-4e52-92a0-20409f441022",
   "metadata": {},
   "outputs": [],
   "source": [
    "processed = metadata_res1.drop(columns=['overview','genres','keywords','cast','crew'])\n"
   ]
  },
  {
   "cell_type": "code",
   "execution_count": 24,
   "id": "af63840f-adcd-4242-8c0d-ca2fb519baab",
   "metadata": {},
   "outputs": [],
   "source": [
    "processed = processed.reset_index(drop=True)\n"
   ]
  },
  {
   "cell_type": "code",
   "execution_count": null,
   "id": "4cf12813-c58c-4bbc-b7db-14e6008e8039",
   "metadata": {},
   "outputs": [],
   "source": []
  },
  {
   "cell_type": "code",
   "execution_count": 25,
   "id": "a0c6819d-b4eb-4e09-a18a-c7f9440768c6",
   "metadata": {},
   "outputs": [],
   "source": [
    "# THIS WILL SEARCH FOR EMPTY TAGS:\n",
    "\n",
    "count=0\n",
    "for i in range(len(processed)):\n",
    "    if not processed.loc[i, 'tags']:\n",
    "        processed.drop(i, inplace=True)\n",
    "        count+=1\n"
   ]
  },
  {
   "cell_type": "code",
   "execution_count": 26,
   "id": "ddaf1b12-f14a-469a-9bab-9d7ba733cb63",
   "metadata": {},
   "outputs": [
    {
     "name": "stdout",
     "output_type": "stream",
     "text": [
      "Top 5 rows of the DataFrame: \n",
      "       action  action adventure  action comedy  action crime  action drama  \\\n",
      "0   0.000000          0.000000            0.0           0.0           0.0   \n",
      "1   0.000000          0.000000            0.0           0.0           0.0   \n",
      "2   0.000000          0.000000            0.0           0.0           0.0   \n",
      "3   0.000000          0.000000            0.0           0.0           0.0   \n",
      "4   0.000000          0.000000            0.0           0.0           0.0   \n",
      "..       ...               ...            ...           ...           ...   \n",
      "95  0.235308          0.374116            0.0           0.0           0.0   \n",
      "96  0.000000          0.000000            0.0           0.0           0.0   \n",
      "97  0.000000          0.000000            0.0           0.0           0.0   \n",
      "98  0.000000          0.000000            0.0           0.0           0.0   \n",
      "99  0.000000          0.000000            0.0           0.0           0.0   \n",
      "\n",
      "    action science  action thriller  adventure  adventure comedy  \\\n",
      "0              0.0              0.0   0.000000               0.0   \n",
      "1              0.0              0.0   0.326568               0.0   \n",
      "2              0.0              0.0   0.000000               0.0   \n",
      "3              0.0              0.0   0.000000               0.0   \n",
      "4              0.0              0.0   0.000000               0.0   \n",
      "..             ...              ...        ...               ...   \n",
      "95             0.0              0.0   0.286892               0.0   \n",
      "96             0.0              0.0   0.000000               0.0   \n",
      "97             0.0              0.0   0.000000               0.0   \n",
      "98             0.0              0.0   0.000000               0.0   \n",
      "99             0.0              0.0   0.000000               0.0   \n",
      "\n",
      "    adventure drama  ...  wedding  western  wife  woman  woman director  \\\n",
      "0          0.000000  ...      0.0      0.0   0.0    0.0             0.0   \n",
      "1          0.000000  ...      0.0      0.0   0.0    0.0             0.0   \n",
      "2          0.000000  ...      0.0      0.0   0.0    0.0             0.0   \n",
      "3          0.000000  ...      0.0      0.0   0.0    0.0             0.0   \n",
      "4          0.000000  ...      0.0      0.0   0.0    0.0             0.0   \n",
      "..              ...  ...      ...      ...   ...    ...             ...   \n",
      "95         0.424038  ...      0.0      0.0   0.0    0.0             0.0   \n",
      "96         0.000000  ...      0.0      0.0   0.0    0.0             0.0   \n",
      "97         0.000000  ...      0.0      0.0   0.0    0.0             0.0   \n",
      "98         0.000000  ...      0.0      0.0   0.0    0.0             0.0   \n",
      "99         0.000000  ...      0.0      0.0   0.0    0.0             0.0   \n",
      "\n",
      "    world  world war  york  york city  zombie  \n",
      "0     0.0        0.0   0.0        0.0     0.0  \n",
      "1     0.0        0.0   0.0        0.0     0.0  \n",
      "2     0.0        0.0   0.0        0.0     0.0  \n",
      "3     0.0        0.0   0.0        0.0     0.0  \n",
      "4     0.0        0.0   0.0        0.0     0.0  \n",
      "..    ...        ...   ...        ...     ...  \n",
      "95    0.0        0.0   0.0        0.0     0.0  \n",
      "96    0.0        0.0   0.0        0.0     0.0  \n",
      "97    0.0        0.0   0.0        0.0     0.0  \n",
      "98    0.0        0.0   0.0        0.0     0.0  \n",
      "99    0.0        0.0   0.0        0.0     0.0  \n",
      "\n",
      "[100 rows x 200 columns]\n"
     ]
    }
   ],
   "source": [
    "# Import the TfidfVectorizer and default list of English stop words\n",
    "from sklearn.feature_extraction.text import CountVectorizer, ENGLISH_STOP_WORDS, TfidfVectorizer\n",
    "\n",
    "# Build the vectorizer\n",
    "vect = TfidfVectorizer(stop_words=stopwords.words('english'), ngram_range=(1,2), max_features=200).fit(processed.tags)\n",
    "# Create sparse matrix from the vectorizer\n",
    "X = vect.transform(processed.tags)\n",
    "\n",
    "# Create a DataFrame\n",
    "tags_transformed = pd.DataFrame(X.toarray(), columns=vect.get_feature_names_out())\n",
    "print('Top 5 rows of the DataFrame: \\n', tags_transformed.head(100))"
   ]
  },
  {
   "cell_type": "code",
   "execution_count": 27,
   "id": "e04bccc1-3de4-47de-bcf4-458d87726e6c",
   "metadata": {},
   "outputs": [],
   "source": [
    "from sklearn.metrics.pairwise import cosine_similarity\n"
   ]
  },
  {
   "cell_type": "code",
   "execution_count": 28,
   "id": "f60b3238-6d6a-41b9-8a6e-c3530a5f3ddc",
   "metadata": {},
   "outputs": [],
   "source": [
    "\n",
    "similarity = cosine_similarity(X)\n"
   ]
  },
  {
   "cell_type": "code",
   "execution_count": 29,
   "id": "68ebd324-7148-42e5-a8bc-4c3f5eac4a0f",
   "metadata": {},
   "outputs": [
    {
     "data": {
      "text/plain": [
       "array([[0., 0., 0., ..., 0., 0., 0.],\n",
       "       [0., 0., 0., ..., 0., 0., 0.],\n",
       "       [0., 0., 0., ..., 0., 0., 0.],\n",
       "       ...,\n",
       "       [0., 0., 0., ..., 0., 0., 0.],\n",
       "       [0., 0., 0., ..., 0., 0., 0.],\n",
       "       [0., 0., 0., ..., 0., 0., 0.]])"
      ]
     },
     "execution_count": 29,
     "metadata": {},
     "output_type": "execute_result"
    }
   ],
   "source": [
    "\n",
    "X.toarray()"
   ]
  },
  {
   "cell_type": "code",
   "execution_count": 30,
   "id": "151a8dc9-fd89-4bd1-9dee-4af2d7ed86a7",
   "metadata": {},
   "outputs": [],
   "source": [
    "# processed[processed['title'] == 'The Lego Movie'].index[0]"
   ]
  },
  {
   "cell_type": "code",
   "execution_count": null,
   "id": "96fe9a14-3569-4183-be59-3dbab0eb7e4f",
   "metadata": {},
   "outputs": [
    {
     "data": {
      "text/plain": [
       "(41322, 3)"
      ]
     },
     "execution_count": 31,
     "metadata": {},
     "output_type": "execute_result"
    }
   ],
   "source": [
    "processed.shape"
   ]
  },
  {
   "cell_type": "code",
   "execution_count": null,
   "id": "43ff9e41-8f88-4581-aee1-4fea3cc5bce3",
   "metadata": {},
   "outputs": [],
   "source": []
  },
  {
   "cell_type": "code",
   "execution_count": null,
   "id": "30a570de-1906-4342-a486-9cf9f7157ac3",
   "metadata": {},
   "outputs": [
    {
     "data": {
      "text/plain": [
       "1"
      ]
     },
     "execution_count": 32,
     "metadata": {},
     "output_type": "execute_result"
    }
   ],
   "source": [
    "processed[processed['title'] == 'jumanji'].index[0]"
   ]
  },
  {
   "cell_type": "code",
   "execution_count": null,
   "id": "c26f674d-7f66-4a16-aab4-6b1bc8bbd2be",
   "metadata": {},
   "outputs": [],
   "source": [
    "distances = sorted(list(enumerate(similarity[0])),reverse=True,key = lambda x: x[1])\n"
   ]
  },
  {
   "cell_type": "code",
   "execution_count": null,
   "id": "93b814ac-ffbb-4d19-bbda-0853b107eb0a",
   "metadata": {},
   "outputs": [],
   "source": [
    "def recommend(movie):\n",
    "    movie = movie.lower()\n",
    "    try:\n",
    "        index = processed[processed['title'] == movie].index[0]\n",
    "        distances = sorted(list(enumerate(similarity[index])),reverse=True,key = lambda x: x[1])\n",
    "        for i in distances[1:6]:\n",
    "            print(processed.iloc[i[0]].title)\n",
    "    except IndexError:\n",
    "        print('Sorry! Movie was not found in database, try searching for something else.')\n",
    "        \n",
    "   "
   ]
  },
  {
   "cell_type": "code",
   "execution_count": null,
   "id": "ace2e297-efa9-45ce-9e52-4eab6b2757ef",
   "metadata": {},
   "outputs": [
    {
     "name": "stdout",
     "output_type": "stream",
     "text": [
      "facing windows\n",
      "reconstruction\n",
      "heartbeats\n",
      "broken embraces\n",
      "the other side of midnight\n"
     ]
    }
   ],
   "source": [
    "recommend('Titanic')"
   ]
  },
  {
   "cell_type": "code",
   "execution_count": null,
   "id": "a2355488-2741-43d8-bf06-d4a5125d36ad",
   "metadata": {},
   "outputs": [],
   "source": []
  }
 ],
 "metadata": {
  "kernelspec": {
   "display_name": "Python 3 (ipykernel)",
   "language": "python",
   "name": "python3"
  },
  "language_info": {
   "codemirror_mode": {
    "name": "ipython",
    "version": 3
   },
   "file_extension": ".py",
   "mimetype": "text/x-python",
   "name": "python",
   "nbconvert_exporter": "python",
   "pygments_lexer": "ipython3",
   "version": "3.9.7"
  }
 },
 "nbformat": 4,
 "nbformat_minor": 5
}
